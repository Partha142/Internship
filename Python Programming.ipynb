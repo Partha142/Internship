{
 "cells": [
  {
   "cell_type": "code",
   "execution_count": null,
   "id": "ae019a1c",
   "metadata": {},
   "outputs": [],
   "source": [
    "Answer 11"
   ]
  },
  {
   "cell_type": "code",
   "execution_count": null,
   "id": "00df9197",
   "metadata": {},
   "outputs": [],
   "source": [
    "def factorial(n):\n",
    "    if n == 0 or n == 1:\n",
    "        return 1\n",
    "    else:\n",
    "        return n * factorial(n - 1)\n",
    "\n",
    "# Input: Get the number from the user\n",
    "num = int(input(\"Enter a number: \"))\n",
    "\n",
    "# Calculate and display the factorial\n",
    "result = factorial(num)\n",
    "print(f\"The factorial of {num} is {result}\")"
   ]
  },
  {
   "cell_type": "code",
   "execution_count": null,
   "id": "2b983888",
   "metadata": {},
   "outputs": [],
   "source": [
    "Answer 12"
   ]
  },
  {
   "cell_type": "code",
   "execution_count": 3,
   "id": "bf8d8f49",
   "metadata": {},
   "outputs": [],
   "source": [
    "def is_prime(n):\n",
    "    if n <= 1:\n",
    "        return False\n",
    "    elif n == 2:\n",
    "        return True\n",
    "    elif n % 2 == 0:\n",
    "        return False\n",
    "    else:\n",
    "        # Check for factors up to the square root of n\n",
    "        for i in range(3, int(n**0.5) + 1, 2):\n",
    "            if n % i == 0:\n",
    "                return False\n",
    "        return True"
   ]
  },
  {
   "cell_type": "code",
   "execution_count": null,
   "id": "2e9876e5",
   "metadata": {},
   "outputs": [],
   "source": [
    "Answer 13 "
   ]
  },
  {
   "cell_type": "code",
   "execution_count": null,
   "id": "acd9b353",
   "metadata": {},
   "outputs": [],
   "source": [
    "def is_palindrome(s):\n",
    "    # Remove spaces and convert to lowercase for a case-insensitive check\n",
    "    s = s.replace(\" \", \"\").lower()\n",
    "    \n",
    "    # Compare the original string with its reverse\n",
    "    return s == s[::-1]\n",
    "\n",
    "# Input: Get the string from the user\n",
    "string_input = input(\"Enter a string: \")\n",
    "\n",
    "# Check and display whether the string is a palindrome or not\n",
    "if is_palindrome(string_input):\n",
    "    print(f\"{string_input} is a palindrome.\")\n",
    "else:\n",
    "    print(f\"{string_input} is not a palindrome.\")\n"
   ]
  },
  {
   "cell_type": "code",
   "execution_count": null,
   "id": "8347498e",
   "metadata": {},
   "outputs": [],
   "source": [
    "Answer 14"
   ]
  },
  {
   "cell_type": "code",
   "execution_count": 4,
   "id": "dc53b098",
   "metadata": {},
   "outputs": [
    {
     "name": "stdout",
     "output_type": "stream",
     "text": [
      "Enter the length of side a: 12\n",
      "Enter the length of side b: 12\n",
      "The length of the hypotenuse is: 16.97056274847714\n"
     ]
    }
   ],
   "source": [
    "import math\n",
    "\n",
    "def find_hypotenuse(a, b):\n",
    "    # Calculate the length of the hypotenuse using the Pythagorean theorem\n",
    "    c = math.sqrt(a**2 + b**2)\n",
    "    return c\n",
    "\n",
    "# Input: Get the lengths of the two sides from the user\n",
    "side_a = float(input(\"Enter the length of side a: \"))\n",
    "side_b = float(input(\"Enter the length of side b: \"))\n",
    "\n",
    "# Calculate and display the length of the hypotenuse\n",
    "hypotenuse = find_hypotenuse(side_a, side_b)\n",
    "print(f\"The length of the hypotenuse is: {hypotenuse}\")"
   ]
  },
  {
   "cell_type": "code",
   "execution_count": null,
   "id": "530bde25",
   "metadata": {},
   "outputs": [],
   "source": [
    "Answer 15"
   ]
  },
  {
   "cell_type": "code",
   "execution_count": null,
   "id": "2b7bee6f",
   "metadata": {},
   "outputs": [],
   "source": [
    "def character_frequency(string):\n",
    "    # Create an empty dictionary to store character frequencies\n",
    "    frequency_dict = {}\n",
    "\n",
    "    # Iterate through each character in the string\n",
    "    for char in string:\n",
    "        # Increment the count for the character in the dictionary\n",
    "        frequency_dict[char] = frequency_dict.get(char, 0) + 1\n",
    "\n",
    "    # Print the character frequencies\n",
    "    print(\"Character frequencies:\")\n",
    "    for char, frequency in frequency_dict.items():\n",
    "        print(f\"'{char}': {frequency}\")\n",
    "\n",
    "# Input: Get the string from the user\n",
    "input_string = input(\"Enter a string: \")\n",
    "\n",
    "# Call the function to calculate and print character frequencies\n",
    "character_frequency(input_string)"
   ]
  },
  {
   "cell_type": "code",
   "execution_count": 1,
   "id": "9baeb214",
   "metadata": {},
   "outputs": [
    {
     "ename": "SyntaxError",
     "evalue": "invalid syntax (2918802065.py, line 3)",
     "output_type": "error",
     "traceback": [
      "\u001b[1;36m  Cell \u001b[1;32mIn[1], line 3\u001b[1;36m\u001b[0m\n\u001b[1;33m    install nbconvert\u001b[0m\n\u001b[1;37m            ^\u001b[0m\n\u001b[1;31mSyntaxError\u001b[0m\u001b[1;31m:\u001b[0m invalid syntax\n"
     ]
    }
   ],
   "source": [
    "pip\n",
    "\n",
    "install nbconvert\n"
   ]
  },
  {
   "cell_type": "code",
   "execution_count": null,
   "id": "f51752bb",
   "metadata": {},
   "outputs": [],
   "source": [
    "conda install nbconvert\n"
   ]
  },
  {
   "cell_type": "code",
   "execution_count": null,
   "id": "344e53cd",
   "metadata": {},
   "outputs": [],
   "source": []
  }
 ],
 "metadata": {
  "kernelspec": {
   "display_name": "Python 3 (ipykernel)",
   "language": "python",
   "name": "python3"
  },
  "language_info": {
   "codemirror_mode": {
    "name": "ipython",
    "version": 3
   },
   "file_extension": ".py",
   "mimetype": "text/x-python",
   "name": "python",
   "nbconvert_exporter": "python",
   "pygments_lexer": "ipython3",
   "version": "3.10.9"
  }
 },
 "nbformat": 4,
 "nbformat_minor": 5
}
